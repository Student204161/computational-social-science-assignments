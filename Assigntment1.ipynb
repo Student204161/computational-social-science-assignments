{
 "cells": [
  {
   "cell_type": "markdown",
   "metadata": {
    "collapsed": true,
    "pycharm": {
     "name": "#%% md\n"
    }
   },
   "source": [
    "https://github.com/Student204161/computational-social-science-assignments\n",
    "Part 1"
   ]
  },
  {
   "cell_type": "code",
   "execution_count": null,
   "outputs": [],
   "source": [
    "from bs4 import BeautifulSoup ##A package to work with HTML data\n",
    "import requests #A package to make HTTP requests\n",
    "\n",
    "# Code to get the participants from the oral presentation\n",
    "LINK = \"https://2019.ic2s2.org/oral-presentations/\"\n",
    "r = requests.get(LINK)\n",
    "soup = BeautifulSoup(r.content)\n",
    "# find dev elements based on a specific class\n",
    "div = soup.find(\"div\",{\"class\":\"col-md-8 page-content-wrap\"})\n",
    "div_p = div.find_all(\"p\")[3:]\n",
    "for d in div_p:\n",
    "    d.strong.extract()\n",
    "\n",
    "# Filter and clean diferent elements to get the participants\n",
    "data = []\n",
    "for d in div_p:\n",
    "    output = d.get_text(strip=True,separator=\"\\n\").splitlines()[1:]\n",
    "    for out in output:\n",
    "        if out[0].isdigit():\n",
    "            removed_date = list(filter(None, out.split(\"–\")[2:]))[0]\n",
    "            removed_topic = removed_date.split(\".\")[0]\n",
    "            researchers = removed_topic.split(\",\")\n",
    "            for r in researchers:\n",
    "                data.append(r)\n",
    "        elif out.split(\": \")[0] == \"Chair\":\n",
    "            data.append(out.split(\": \")[1])\n",
    "\n",
    "data_unique = list(set(data))"
   ],
   "metadata": {
    "collapsed": false,
    "pycharm": {
     "name": "#%%\n"
    }
   }
  },
  {
   "cell_type": "code",
   "execution_count": null,
   "outputs": [],
   "source": [
    "# Code to get the participants from the posters\n",
    "LINK = \"https://2019.ic2s2.org/posters/\"\n",
    "r = requests.get(LINK)\n",
    "soup = BeautifulSoup(r.content)\n",
    "div = soup.find(\"div\",{\"class\":\"col-md-8 page-content-wrap\"})\n",
    "# Filter and clean diferent elements to get the participants\n",
    "for child in div.find(\"ul\").children:\n",
    "    txt = child.get_text(strip=True,separator=\"\\n\").split(\"<span>\")[0].split(\"\\n\")[0]\n",
    "    txt = txt.replace(\" and \", \", \")\n",
    "    txt_split = txt.split(\", \")\n",
    "    for t in txt_split:\n",
    "        data.append(t)\n",
    "    print(\"-----------------------------------\")\n",
    "    print(\"child:\")\n",
    "    print(child)\n",
    "data_unique = list(set(data))\n",
    "while \"\" in data_unique:\n",
    "    data_unique.remove(\"\")"
   ],
   "metadata": {
    "collapsed": false,
    "pycharm": {
     "name": "#%%\n"
    }
   }
  },
  {
   "cell_type": "markdown",
   "source": [
    "798 unique participants obtained in 2019"
   ],
   "metadata": {
    "collapsed": false,
    "pycharm": {
     "name": "#%% md\n"
    }
   }
  }
 ],
 "metadata": {
  "kernelspec": {
   "display_name": "Python 3",
   "language": "python",
   "name": "python3"
  },
  "language_info": {
   "codemirror_mode": {
    "name": "ipython",
    "version": 2
   },
   "file_extension": ".py",
   "mimetype": "text/x-python",
   "name": "python",
   "nbconvert_exporter": "python",
   "pygments_lexer": "ipython2",
   "version": "2.7.6"
  }
 },
 "nbformat": 4,
 "nbformat_minor": 0
}