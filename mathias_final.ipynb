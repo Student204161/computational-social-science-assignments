{
 "cells": [
  {
   "cell_type": "code",
   "execution_count": 1,
   "metadata": {},
   "outputs": [],
   "source": [
    "import pandas as pd\n",
    "import numpy as np\n",
    "import networkx as nx\n",
    "import netwulf as nw\n",
    "from bs4 import BeautifulSoup\n",
    "from networkx.algorithms import community\n",
    "from community import community_louvain\n",
    "import matplotlib.pyplot as plt\n",
    "import pickle\n",
    "from PIL import Image"
   ]
  },
  {
   "cell_type": "code",
   "execution_count": 2,
   "metadata": {},
   "outputs": [],
   "source": [
    "clean_answers_df = pd.read_csv('no_NA_Answers.csv', encoding='ISO-8859-1')\n",
    "clean_questions_df = pd.read_csv('no_NA_Questions.csv', encoding='ISO-8859-1')"
   ]
  },
  {
   "cell_type": "code",
   "execution_count": 3,
   "metadata": {},
   "outputs": [
    {
     "name": "stdout",
     "output_type": "stream",
     "text": [
      "Id                                                             80\n",
      "OwnerUserId                                                  26.0\n",
      "CreationDate                                 2008-08-01T13:57:07Z\n",
      "ClosedDate                                                    NaN\n",
      "Score                                                          26\n",
      "Title           SQLStatement.execute() - multiple queries in o...\n",
      "Body            <p>I've written a database generation script i...\n",
      "Name: 0, dtype: object\n"
     ]
    }
   ],
   "source": [
    "print(clean_questions_df.iloc[0])\n"
   ]
  },
  {
   "cell_type": "code",
   "execution_count": 4,
   "metadata": {},
   "outputs": [
    {
     "data": {
      "text/html": [
       "<div>\n",
       "<style scoped>\n",
       "    .dataframe tbody tr th:only-of-type {\n",
       "        vertical-align: middle;\n",
       "    }\n",
       "\n",
       "    .dataframe tbody tr th {\n",
       "        vertical-align: top;\n",
       "    }\n",
       "\n",
       "    .dataframe thead th {\n",
       "        text-align: right;\n",
       "    }\n",
       "</style>\n",
       "<table border=\"1\" class=\"dataframe\">\n",
       "  <thead>\n",
       "    <tr style=\"text-align: right;\">\n",
       "      <th></th>\n",
       "      <th>Id</th>\n",
       "      <th>OwnerUserId</th>\n",
       "      <th>CreationDate</th>\n",
       "      <th>ParentId</th>\n",
       "      <th>Score</th>\n",
       "      <th>Body</th>\n",
       "    </tr>\n",
       "  </thead>\n",
       "  <tbody>\n",
       "    <tr>\n",
       "      <th>0</th>\n",
       "      <td>92</td>\n",
       "      <td>61.0</td>\n",
       "      <td>2008-08-01T14:45:37Z</td>\n",
       "      <td>90</td>\n",
       "      <td>13</td>\n",
       "      <td>&lt;p&gt;&lt;a href=\"http://svnbook.red-bean.com/\"&gt;Vers...</td>\n",
       "    </tr>\n",
       "    <tr>\n",
       "      <th>1</th>\n",
       "      <td>124</td>\n",
       "      <td>26.0</td>\n",
       "      <td>2008-08-01T16:09:47Z</td>\n",
       "      <td>80</td>\n",
       "      <td>12</td>\n",
       "      <td>&lt;p&gt;I wound up using this. It is a kind of a ha...</td>\n",
       "    </tr>\n",
       "    <tr>\n",
       "      <th>2</th>\n",
       "      <td>199</td>\n",
       "      <td>50.0</td>\n",
       "      <td>2008-08-01T19:36:46Z</td>\n",
       "      <td>180</td>\n",
       "      <td>1</td>\n",
       "      <td>&lt;p&gt;I've read somewhere the human eye can't dis...</td>\n",
       "    </tr>\n",
       "    <tr>\n",
       "      <th>3</th>\n",
       "      <td>269</td>\n",
       "      <td>91.0</td>\n",
       "      <td>2008-08-01T23:49:57Z</td>\n",
       "      <td>260</td>\n",
       "      <td>4</td>\n",
       "      <td>&lt;p&gt;Yes, I thought about that, but I soon figur...</td>\n",
       "    </tr>\n",
       "    <tr>\n",
       "      <th>4</th>\n",
       "      <td>307</td>\n",
       "      <td>49.0</td>\n",
       "      <td>2008-08-02T01:49:46Z</td>\n",
       "      <td>260</td>\n",
       "      <td>28</td>\n",
       "      <td>&lt;p&gt;&lt;a href=\"http://www.codeproject.com/Article...</td>\n",
       "    </tr>\n",
       "    <tr>\n",
       "      <th>...</th>\n",
       "      <td>...</td>\n",
       "      <td>...</td>\n",
       "      <td>...</td>\n",
       "      <td>...</td>\n",
       "      <td>...</td>\n",
       "      <td>...</td>\n",
       "    </tr>\n",
       "    <tr>\n",
       "      <th>2001311</th>\n",
       "      <td>40143247</td>\n",
       "      <td>333403.0</td>\n",
       "      <td>2016-10-19T23:42:35Z</td>\n",
       "      <td>40143190</td>\n",
       "      <td>0</td>\n",
       "      <td>&lt;p&gt;Tanks to &lt;a href=\"http://stackoverflow.com/...</td>\n",
       "    </tr>\n",
       "    <tr>\n",
       "      <th>2001312</th>\n",
       "      <td>40143322</td>\n",
       "      <td>642706.0</td>\n",
       "      <td>2016-10-19T23:50:35Z</td>\n",
       "      <td>40137110</td>\n",
       "      <td>1</td>\n",
       "      <td>&lt;h1&gt;tl;dr&lt;/h1&gt;\\n\\n&lt;pre&gt;&lt;code&gt;ZonedDateTime.par...</td>\n",
       "    </tr>\n",
       "    <tr>\n",
       "      <th>2001313</th>\n",
       "      <td>40143336</td>\n",
       "      <td>2239781.0</td>\n",
       "      <td>2016-10-19T23:52:08Z</td>\n",
       "      <td>40141860</td>\n",
       "      <td>0</td>\n",
       "      <td>&lt;p&gt;I came up with a very dirty workaround. Bef...</td>\n",
       "    </tr>\n",
       "    <tr>\n",
       "      <th>2001314</th>\n",
       "      <td>40143349</td>\n",
       "      <td>6934347.0</td>\n",
       "      <td>2016-10-19T23:54:02Z</td>\n",
       "      <td>40077010</td>\n",
       "      <td>0</td>\n",
       "      <td>&lt;p&gt;I solved my own problem defining the follow...</td>\n",
       "    </tr>\n",
       "    <tr>\n",
       "      <th>2001315</th>\n",
       "      <td>40143389</td>\n",
       "      <td>4464432.0</td>\n",
       "      <td>2016-10-19T23:58:58Z</td>\n",
       "      <td>40142910</td>\n",
       "      <td>0</td>\n",
       "      <td>&lt;p&gt;Try add &lt;code&gt;retrun false&lt;/code&gt; in the &lt;c...</td>\n",
       "    </tr>\n",
       "  </tbody>\n",
       "</table>\n",
       "<p>2001316 rows × 6 columns</p>\n",
       "</div>"
      ],
      "text/plain": [
       "               Id  OwnerUserId          CreationDate  ParentId  Score  \\\n",
       "0              92         61.0  2008-08-01T14:45:37Z        90     13   \n",
       "1             124         26.0  2008-08-01T16:09:47Z        80     12   \n",
       "2             199         50.0  2008-08-01T19:36:46Z       180      1   \n",
       "3             269         91.0  2008-08-01T23:49:57Z       260      4   \n",
       "4             307         49.0  2008-08-02T01:49:46Z       260     28   \n",
       "...           ...          ...                   ...       ...    ...   \n",
       "2001311  40143247     333403.0  2016-10-19T23:42:35Z  40143190      0   \n",
       "2001312  40143322     642706.0  2016-10-19T23:50:35Z  40137110      1   \n",
       "2001313  40143336    2239781.0  2016-10-19T23:52:08Z  40141860      0   \n",
       "2001314  40143349    6934347.0  2016-10-19T23:54:02Z  40077010      0   \n",
       "2001315  40143389    4464432.0  2016-10-19T23:58:58Z  40142910      0   \n",
       "\n",
       "                                                      Body  \n",
       "0        <p><a href=\"http://svnbook.red-bean.com/\">Vers...  \n",
       "1        <p>I wound up using this. It is a kind of a ha...  \n",
       "2        <p>I've read somewhere the human eye can't dis...  \n",
       "3        <p>Yes, I thought about that, but I soon figur...  \n",
       "4        <p><a href=\"http://www.codeproject.com/Article...  \n",
       "...                                                    ...  \n",
       "2001311  <p>Tanks to <a href=\"http://stackoverflow.com/...  \n",
       "2001312  <h1>tl;dr</h1>\\n\\n<pre><code>ZonedDateTime.par...  \n",
       "2001313  <p>I came up with a very dirty workaround. Bef...  \n",
       "2001314  <p>I solved my own problem defining the follow...  \n",
       "2001315  <p>Try add <code>retrun false</code> in the <c...  \n",
       "\n",
       "[2001316 rows x 6 columns]"
      ]
     },
     "execution_count": 4,
     "metadata": {},
     "output_type": "execute_result"
    }
   ],
   "source": [
    "clean_answers_df"
   ]
  },
  {
   "cell_type": "code",
   "execution_count": 5,
   "metadata": {},
   "outputs": [
    {
     "name": "stdout",
     "output_type": "stream",
     "text": [
      "2001316\n",
      "1249762\n",
      "unique_nodes: 1139798\n"
     ]
    }
   ],
   "source": [
    "print(len(clean_answers_df.index))\n",
    "print(len(clean_questions_df.index))\n",
    "unique_users = np.unique([x for x in np.unique(clean_questions_df.get('OwnerUserId')+clean_answers_df.get('OwnerUserId'))])\n",
    "print(f'unique_nodes: {len(unique_users)}')"
   ]
  },
  {
   "cell_type": "code",
   "execution_count": 6,
   "metadata": {},
   "outputs": [
    {
     "data": {
      "text/plain": [
       "False"
      ]
     },
     "execution_count": 6,
     "metadata": {},
     "output_type": "execute_result"
    }
   ],
   "source": [
    "unique_user_ids = np.asarray(np.asarray(np.unique(clean_answers_df.get('OwnerUserId')+clean_answers_df.get('OwnerUserId')),dtype=int),dtype=str)\n",
    "pd.isna(np.asarray(np.unique(clean_answers_df.get('OwnerUserId')+clean_answers_df.get('OwnerUserId')),dtype=int)).any() #check if any NAN - should be false"
   ]
  },
  {
   "cell_type": "code",
   "execution_count": 7,
   "metadata": {},
   "outputs": [],
   "source": [
    "G = nx.DiGraph()\n",
    "G.add_nodes_from(unique_user_ids)"
   ]
  },
  {
   "cell_type": "code",
   "execution_count": 8,
   "metadata": {},
   "outputs": [
    {
     "name": "stdout",
     "output_type": "stream",
     "text": [
      "0\n",
      "50000\n",
      "100000\n",
      "150000\n",
      "200000\n",
      "250000\n",
      "300000\n",
      "350000\n",
      "400000\n",
      "450000\n",
      "500000\n",
      "550000\n",
      "600000\n",
      "650000\n",
      "700000\n",
      "750000\n",
      "800000\n",
      "850000\n",
      "900000\n",
      "950000\n",
      "1000000\n",
      "1050000\n",
      "1100000\n",
      "1150000\n",
      "1200000\n"
     ]
    }
   ],
   "source": [
    "owner_attrs = {}\n",
    "\n",
    "owner_found_bool = {}\n",
    "#Add question/owner attributes to nodes:\n",
    "for i in range(len(clean_questions_df.get('OwnerUserId'))):\n",
    "    question_id = str(clean_questions_df.iloc[i].get('Id'))\n",
    "    owner_id = str(int(clean_questions_df.iloc[i].get('OwnerUserId')))\n",
    "    if not owner_found_bool.get(owner_id):\n",
    "        owner_found_bool[owner_id] = True\n",
    "        owner_attrs[owner_id] = {}\n",
    "        owner_attrs[owner_id]['scores'] = {}\n",
    "    owner_attrs[owner_id][question_id] = BeautifulSoup(clean_questions_df.iloc[i].get('Body'), 'html.parser').get_text()\n",
    "    owner_attrs[owner_id]['scores'][question_id] = (clean_questions_df.iloc[i].get('Score'))    \n",
    "    #Should also save question title in graph - implement here:\n",
    "    \n",
    "\n",
    "    if i % 50000 == 0:\n",
    "        print(i)\n"
   ]
  },
  {
   "cell_type": "code",
   "execution_count": 9,
   "metadata": {},
   "outputs": [
    {
     "name": "stdout",
     "output_type": "stream",
     "text": [
      "0\n",
      "50000\n",
      "100000\n",
      "150000\n",
      "200000\n",
      "250000\n",
      "300000\n",
      "350000\n",
      "400000\n",
      "450000\n",
      "500000\n",
      "550000\n",
      "600000\n",
      "650000\n",
      "700000\n",
      "750000\n",
      "800000\n",
      "850000\n",
      "900000\n",
      "950000\n",
      "1000000\n",
      "1050000\n",
      "1100000\n",
      "1150000\n",
      "1200000\n",
      "1250000\n",
      "1300000\n",
      "1350000\n",
      "1400000\n",
      "1450000\n",
      "1500000\n",
      "1550000\n",
      "1600000\n",
      "1650000\n",
      "1700000\n",
      "1750000\n",
      "1800000\n",
      "1850000\n",
      "1900000\n",
      "1950000\n",
      "2000000\n"
     ]
    }
   ],
   "source": [
    "answers_attrs = {}\n",
    "answers_found_bool = {}\n",
    "\n",
    "collab_network = {}\n",
    "\n",
    "#Add answer attributes to nodes & remember that edge is directed from OwnerUserId --> ParentId:\n",
    "for i in range(len(clean_answers_df.get('OwnerUserId'))):\n",
    "    answers_id = str(clean_answers_df.iloc[i].get('Id'))\n",
    "    owner_id = str(int(clean_answers_df.iloc[i].get('OwnerUserId')))\n",
    "    parent_id = str(int(clean_answers_df.iloc[i].get('ParentId')))\n",
    "    if not answers_found_bool.get(owner_id):\n",
    "        answers_found_bool[owner_id] = True\n",
    "        answers_attrs[owner_id] = {}\n",
    "    if not owner_found_bool.get(owner_id):\n",
    "        owner_found_bool[owner_id] = True\n",
    "        owner_attrs[owner_id] = {}\n",
    "        owner_attrs[owner_id]['scores'] = {}\n",
    "\n",
    "    owner_attrs[owner_id][answers_id] = BeautifulSoup(clean_answers_df.iloc[i].get('Body'), 'html.parser').get_text()\n",
    "    \n",
    "    if not collab_network.get((owner_id, parent_id)):\n",
    "        collab_network[(owner_id, parent_id)] = 1\n",
    "    else:\n",
    "        collab_network[(owner_id, parent_id)] += 1\n",
    "\n",
    "    #we want to find scores for each person for answers too.\n",
    "    owner_attrs[owner_id]['scores'][answers_id] = clean_answers_df.iloc[i].get('Score')\n",
    "    if i % 50000 == 0:\n",
    "        print(i)\n",
    "\n",
    "nx.set_node_attributes(G, answers_attrs, 'Questions')"
   ]
  },
  {
   "cell_type": "code",
   "execution_count": 10,
   "metadata": {},
   "outputs": [],
   "source": [
    "#make edgelist and then edges in network.\n",
    "edgelist = [(x[0][0], x[0][1], x[1]) for x in collab_network.items()]\n",
    "\n",
    "G.add_weighted_edges_from(edgelist)"
   ]
  },
  {
   "cell_type": "code",
   "execution_count": 11,
   "metadata": {},
   "outputs": [
    {
     "name": "stdout",
     "output_type": "stream",
     "text": [
      "Number of nodes in G: 1975473\n",
      "Number of edges in G: 1993272\n",
      "Edges for node 61 in G: [('61', '90'), ('61', '24270'), ('61', '47980'), ('61', '51390'), ('61', '142340'), ('61', '526660'), ('61', '1581560'), ('61', '2520220'), ('61', '6242540'), ('61', '6553950')]\n",
      "Info about Node 61 in G: {}\n"
     ]
    }
   ],
   "source": [
    "print(f'Number of nodes in G: {G.number_of_nodes()}')\n",
    "print(f'Number of edges in G: {G.number_of_edges()}')\n",
    "print(f'Edges for node 61 in G: {G.edges(str(61))}')\n",
    "\n",
    "print(f'Info about Node 61 in G: {G.nodes[str(61)]}')\n"
   ]
  },
  {
   "cell_type": "code",
   "execution_count": 12,
   "metadata": {},
   "outputs": [],
   "source": [
    "G = G.to_undirected()"
   ]
  },
  {
   "cell_type": "code",
   "execution_count": 13,
   "metadata": {},
   "outputs": [],
   "source": [
    "best_partition = community_louvain.best_partition(G)\n",
    "communities_generator = community.girvan_newman(G)"
   ]
  },
  {
   "cell_type": "code",
   "execution_count": 16,
   "metadata": {},
   "outputs": [
    {
     "data": {
      "image/png": "[encoded data removed]",
      "text/plain": [
       "<Figure size 1000x600 with 1 Axes>"
      ]
     },
     "metadata": {},
     "output_type": "display_data"
    }
   ],
   "source": [
    "import collections\n",
    "import matplotlib.pyplot as plt\n",
    "\n",
    "# Get community sizes\n",
    "community_sizes = collections.Counter(best_partition.values())\n",
    "\n",
    "# Sort communities by size in descending order\n",
    "sorted_communities = sorted(community_sizes.items(), key=lambda x: x[1], reverse=True)\n",
    "\n",
    "# Extract community names (integers) from sorted list\n",
    "community_names = [community[0] for community in sorted_communities]\n",
    "\n",
    "# Set custom figure size\n",
    "fig = plt.figure(figsize=(10, 6))  # Specify width and height of the plot\n",
    "\n",
    "# Plot histogram with reduced number of bins\n",
    "plt.hist(community_names, bins=100, ec=\"black\")\n",
    "plt.title('Community Size Distribution')\n",
    "plt.ylabel('Frequency (log scale)')\n",
    "plt.yscale('log')\n",
    "plt.xlabel('Community name(int)')\n",
    "plt.show()"
   ]
  },
  {
   "cell_type": "code",
   "execution_count": 48,
   "metadata": {},
   "outputs": [
    {
     "name": "stdout",
     "output_type": "stream",
     "text": [
      "num_communities:515686 \n"
     ]
    },
    {
     "data": {
      "image/png": "[encoded data removed]",
      "text/plain": [
       "<Figure size 640x480 with 1 Axes>"
      ]
     },
     "metadata": {},
     "output_type": "display_data"
    }
   ],
   "source": [
    "print(f'num_communities:{max(best_partition.values()) + 1} ')\n",
    "\n",
    "plt.hist(best_partition.values(), bins = 50000,ec=\"black\")\n",
    "plt.title('Community Size Distribution')\n",
    "plt.ylabel('Frequency (log scale)')\n",
    "plt.yscale('log')\n",
    "plt.xlabel('Community name(int)')\n",
    "plt.show()"
   ]
  },
  {
   "cell_type": "code",
   "execution_count": 55,
   "metadata": {},
   "outputs": [
    {
     "data": {
      "text/plain": [
       "(None, None)"
      ]
     },
     "execution_count": 55,
     "metadata": {},
     "output_type": "execute_result"
    }
   ],
   "source": [
    "nw.visualize(G)"
   ]
  },
  {
   "cell_type": "code",
   "execution_count": null,
   "metadata": {},
   "outputs": [],
   "source": [
    "from matplotlib import colors as colors\n",
    "\n",
    "num_communities = max(best_partition.values()) + 1\n",
    "community_colors = {i: f'#{j:x}' for i, j in zip(range(num_communities), np.random.randint(256**3, size=num_communities))}\n",
    "\n",
    "node_colors = [community_colors[best_partition[node]] for node in G.nodes()]\n",
    "config = { \"Node color\": node_colors, \"Node size\": 1, \"Node stroke width\": 0, \"Edge width\": 1,\"Zoom\": 0.5,}\n",
    "#nw.visualize(G)\n",
    "\n",
    "#Visualize network\n",
    "best_partition = community_louvain.best_partition(G)\n",
    "sizes = [len(c) for c in best_partition]\n",
    "G_where = np.array(G.nodes)\n",
    "\n",
    "degreeColor = np.empty(len(G_where), dtype=object)\n",
    "valueToPlot = np.log10(sizes)\n",
    "\n",
    "valueToPlotRescaled = 255*(valueToPlot - np.min(valueToPlot))/np.max(valueToPlot)\n",
    "\n",
    "for size, c in zip(sizes, best_partition):\n",
    "    for node in c:\n",
    "        color = '#%02x%02x%02x' % (int(size), 0, 50)\n",
    "        degreeColor[np.where(G_where == node)] = color\n",
    "dictionaryColor = dict(zip(list(G.nodes), degreeColor))\n",
    "for node, group in dictionaryColor.items():\n",
    "    dictionaryColor[node] = str(group)\n",
    "nx.set_node_attributes(G, dictionaryColor, 'group')"
   ]
  },
  {
   "cell_type": "code",
   "execution_count": 58,
   "metadata": {},
   "outputs": [],
   "source": [
    "with open('stackoverflow_network.pickle', 'rb') as f:\n",
    "    image = pickle.load(f)"
   ]
  }
 ],
 "metadata": {
  "kernelspec": {
   "display_name": "Python 3",
   "language": "python",
   "name": "python3"
  },
  "language_info": {
   "codemirror_mode": {
    "name": "ipython",
    "version": 3
   },
   "file_extension": ".py",
   "mimetype": "text/x-python",
   "name": "python",
   "nbconvert_exporter": "python",
   "pygments_lexer": "ipython3",
   "version": "3.8.10"
  },
  "orig_nbformat": 4
 },
 "nbformat": 4,
 "nbformat_minor": 2
}
